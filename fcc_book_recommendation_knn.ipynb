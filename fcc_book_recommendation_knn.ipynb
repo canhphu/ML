{
  "cells": [
    {
      "cell_type": "markdown",
      "metadata": {
        "id": "view-in-github",
        "colab_type": "text"
      },
      "source": [
        "<a href=\"https://colab.research.google.com/github/canhphu/ML/blob/main/fcc_book_recommendation_knn.ipynb\" target=\"_parent\"><img src=\"https://colab.research.google.com/assets/colab-badge.svg\" alt=\"Open In Colab\"/></a>"
      ]
    },
    {
      "cell_type": "code",
      "execution_count": null,
      "metadata": {
        "id": "Y1onB6kUvo4Z"
      },
      "outputs": [],
      "source": [
        "# import libraries (you may add additional imports but you may not have to)\n",
        "import numpy as np\n",
        "import pandas as pd\n",
        "from scipy.sparse import csr_matrix\n",
        "from sklearn.neighbors import NearestNeighbors\n",
        "import matplotlib.pyplot as plt"
      ]
    },
    {
      "cell_type": "code",
      "execution_count": null,
      "metadata": {
        "colab": {
          "base_uri": "https://localhost:8080/"
        },
        "id": "iAQGqqO_vo4d",
        "outputId": "75e4de2a-68a2-467e-d849-9dd29b61f7b3"
      },
      "outputs": [
        {
          "output_type": "stream",
          "name": "stdout",
          "text": [
            "--2024-09-06 15:37:54--  https://cdn.freecodecamp.org/project-data/books/book-crossings.zip\n",
            "Resolving cdn.freecodecamp.org (cdn.freecodecamp.org)... 172.67.70.149, 104.26.2.33, 104.26.3.33, ...\n",
            "Connecting to cdn.freecodecamp.org (cdn.freecodecamp.org)|172.67.70.149|:443... connected.\n",
            "HTTP request sent, awaiting response... 200 OK\n",
            "Length: 26085508 (25M) [application/zip]\n",
            "Saving to: ‘book-crossings.zip’\n",
            "\n",
            "book-crossings.zip  100%[===================>]  24.88M  70.6MB/s    in 0.4s    \n",
            "\n",
            "2024-09-06 15:37:54 (70.6 MB/s) - ‘book-crossings.zip’ saved [26085508/26085508]\n",
            "\n",
            "Archive:  book-crossings.zip\n",
            "  inflating: BX-Book-Ratings.csv     \n",
            "  inflating: BX-Books.csv            \n",
            "  inflating: BX-Users.csv            \n"
          ]
        }
      ],
      "source": [
        "# get data files\n",
        "!wget https://cdn.freecodecamp.org/project-data/books/book-crossings.zip\n",
        "\n",
        "!unzip book-crossings.zip\n",
        "\n",
        "books_filename = 'BX-Books.csv'\n",
        "ratings_filename = 'BX-Book-Ratings.csv'"
      ]
    },
    {
      "cell_type": "code",
      "execution_count": 5,
      "metadata": {
        "id": "NClILWOiEd6Q"
      },
      "outputs": [],
      "source": [
        "# import csv data into dataframes\n",
        "df_books = pd.read_csv(\n",
        "    books_filename,\n",
        "    encoding = \"ISO-8859-1\",\n",
        "    sep=\";\",\n",
        "    header=0,\n",
        "    names=['isbn', 'title', 'author'],\n",
        "    usecols=['isbn', 'title', 'author'],\n",
        "    dtype={'isbn': 'str', 'title': 'str', 'author': 'str'})\n",
        "\n",
        "df_ratings = pd.read_csv(\n",
        "    ratings_filename,\n",
        "    encoding = \"ISO-8859-1\",\n",
        "    sep=\";\",\n",
        "    header=0,\n",
        "    names=['user', 'isbn', 'rating'],\n",
        "    usecols=['user', 'isbn', 'rating'],\n",
        "    dtype={'user': 'int32', 'isbn': 'str', 'rating': 'float32'})"
      ]
    },
    {
      "cell_type": "code",
      "execution_count": 6,
      "metadata": {
        "colab": {
          "base_uri": "https://localhost:8080/"
        },
        "id": "xAcXjkCFCh0A",
        "outputId": "6888dc75-b905-4778-fe8b-dd510e2b0417"
      },
      "outputs": [
        {
          "output_type": "stream",
          "name": "stdout",
          "text": [
            "Number of unique users: 49781\n",
            "Number of unique books: 49781\n",
            "Number of unique ratings: 49781\n",
            "Model fitted successfully.\n"
          ]
        }
      ],
      "source": [
        "# add your code here - consider creating a new cell for each section of code\n",
        "# Step 1: Handle missing authors\n",
        "df_books.dropna(subset=['author'], inplace=True)\n",
        "\n",
        "# Step 2: Filter users with at least 200 ratings\n",
        "user_ratings_count = df_ratings['user'].value_counts()\n",
        "valid_users = user_ratings_count[user_ratings_count >= 200].index\n",
        "df_ratings_filtered = df_ratings[df_ratings['user'].isin(valid_users)]\n",
        "\n",
        "# Step 3: Filter books with at least 100 ratings\n",
        "book_ratings_count = df_ratings['isbn'].value_counts()\n",
        "valid_books = book_ratings_count[book_ratings_count >= 100].index\n",
        "df_ratings_filtered = df_ratings_filtered[df_ratings_filtered['isbn'].isin(valid_books)]\n",
        "print(\"Number of unique users:\", df_ratings_filtered['user'].count())\n",
        "print(\"Number of unique books:\", df_ratings_filtered['isbn'].count())\n",
        "print(\"Number of unique ratings:\", df_ratings_filtered.shape[0])\n",
        "# Check if the filtered DataFrame is empty\n",
        "if df_ratings_filtered.empty:\n",
        "    print(\"Error: No common books found after filtering.\")\n",
        "else:\n",
        "    # Step 5: Create the book-user matrix\n",
        "    book_user_matrix = df_ratings_filtered.pivot_table(index='isbn', columns='user', values='rating').fillna(0)\n",
        "\n",
        "    # Step 6: Train the NearestNeighbors model\n",
        "    from sklearn.neighbors import NearestNeighbors\n",
        "    model_knn = NearestNeighbors(metric='cosine', algorithm='brute')\n",
        "    model_knn.fit(book_user_matrix)\n",
        "    print(\"Model fitted successfully.\")"
      ]
    },
    {
      "cell_type": "code",
      "execution_count": 7,
      "metadata": {
        "colab": {
          "base_uri": "https://localhost:8080/"
        },
        "id": "f5ZUd-L1SQz7",
        "outputId": "a697280f-a782-4892-d3bb-56a7ccad1927"
      },
      "outputs": [
        {
          "output_type": "stream",
          "name": "stdout",
          "text": [
            "['The Queen of the Damned (Vampire Chronicles (Paperback))', [['Catch 22', 0.7939835], ['The Witching Hour (Lives of the Mayfair Witches)', 0.74486566], ['Interview with the Vampire', 0.73450685], ['The Tale of the Body Thief (Vampire Chronicles (Paperback))', 0.53763384], ['The Vampire Lestat (Vampire Chronicles, Book II)', 0.51784116]]]\n"
          ]
        }
      ],
      "source": [
        "# function to return recommended books - this will be tested\n",
        "def get_recommends(book_title=\"\"):\n",
        "    # Step 1: Find the ISBN for the given book title\n",
        "    if book_title not in df_books['title'].values:\n",
        "        return f\"Book '{book_title}' not found in the dataset.\"\n",
        "\n",
        "    # Get the ISBN of the input book\n",
        "    book_isbn = df_books[df_books['title'] == book_title]['isbn'].values[0]\n",
        "\n",
        "    # Step 2: Find the index of the book in the book-user matrix\n",
        "    if book_isbn not in book_user_matrix.index:\n",
        "        return f\"Book '{book_title}' does not have enough ratings for recommendations.\"\n",
        "\n",
        "    book_index = book_user_matrix.index.get_loc(book_isbn)\n",
        "\n",
        "    # Step 3: Use the KNN model to find nearest neighbors (including itself)\n",
        "    distances, indices = model_knn.kneighbors(book_user_matrix.iloc[book_index, :].values.reshape(1, -1), n_neighbors=6)\n",
        "\n",
        "    # Step 4: Retrieve the recommended books and their distances\n",
        "    recommended_books = []\n",
        "    for i in range(1, len(distances.flatten())):  # Skip the first one as it is the input book itself\n",
        "        similar_book_isbn = book_user_matrix.index[indices.flatten()[i]]\n",
        "        similar_book_title = df_books[df_books['isbn'] == similar_book_isbn]['title'].values[0]\n",
        "        recommended_books.append([similar_book_title, distances.flatten()[i]])\n",
        "    # Step 6: Sort recommended books by distance in descending order (nearest first)\n",
        "    recommended_books.sort(key=lambda x: x[1], reverse=True)  # Sort by distance in descending order\n",
        "    recommended_books = recommended_books[:5]  # Keep only the top 5 recommendations\n",
        "\n",
        "    # Return the input book and the recommended books\n",
        "    return [book_title, recommended_books]\n",
        "\n",
        "# Testing the function\n",
        "print(get_recommends(\"The Queen of the Damned (Vampire Chronicles (Paperback))\"))\n"
      ]
    },
    {
      "cell_type": "code",
      "execution_count": 8,
      "metadata": {
        "colab": {
          "base_uri": "https://localhost:8080/"
        },
        "id": "jd2SLCh8oxMh",
        "outputId": "65327278-1ff4-48b5-f74a-5d8519095197"
      },
      "outputs": [
        {
          "output_type": "stream",
          "name": "stdout",
          "text": [
            "[\"Where the Heart Is (Oprah's Book Club (Paperback))\", [[\"I'll Be Seeing You\", 0.8016211], ['The Weight of Water', 0.77085835], ['The Surgeon', 0.7699411], ['I Know This Much Is True', 0.7677075], ['The Lovely Bones: A Novel', 0.7234864]]]\n",
            "You passed the challenge! 🎉🎉🎉🎉🎉\n"
          ]
        }
      ],
      "source": [
        "books = get_recommends(\"Where the Heart Is (Oprah's Book Club (Paperback))\")\n",
        "print(books)\n",
        "\n",
        "def test_book_recommendation():\n",
        "  test_pass = True\n",
        "  recommends = get_recommends(\"Where the Heart Is (Oprah's Book Club (Paperback))\")\n",
        "  if recommends[0] != \"Where the Heart Is (Oprah's Book Club (Paperback))\":\n",
        "    test_pass = False\n",
        "  recommended_books = [\"I'll Be Seeing You\", 'The Weight of Water', 'The Surgeon', 'I Know This Much Is True']\n",
        "  recommended_books_dist = [0.8, 0.77, 0.77, 0.77]\n",
        "  for i in range(2):\n",
        "    if recommends[1][i][0] not in recommended_books:\n",
        "      test_pass = False\n",
        "    if abs(recommends[1][i][1] - recommended_books_dist[i]) >= 0.05:\n",
        "      test_pass = False\n",
        "  if test_pass:\n",
        "    print(\"You passed the challenge! 🎉🎉🎉🎉🎉\")\n",
        "  else:\n",
        "    print(\"You haven't passed yet. Keep trying!\")\n",
        "\n",
        "test_book_recommendation()"
      ]
    }
  ],
  "metadata": {
    "colab": {
      "provenance": [],
      "include_colab_link": true
    },
    "kernelspec": {
      "display_name": "Python 3",
      "language": "python",
      "name": "python3"
    },
    "language_info": {
      "codemirror_mode": {
        "name": "ipython",
        "version": 3
      },
      "file_extension": ".py",
      "mimetype": "text/x-python",
      "name": "python",
      "nbconvert_exporter": "python",
      "pygments_lexer": "ipython3",
      "version": "3.6.5"
    }
  },
  "nbformat": 4,
  "nbformat_minor": 0
}